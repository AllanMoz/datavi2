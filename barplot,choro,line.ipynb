{
 "cells": [
  {
   "cell_type": "code",
   "execution_count": 1,
   "id": "fourth-mississippi",
   "metadata": {},
   "outputs": [],
   "source": [
    "import pandas as pd\n",
    "import numpy as np\n",
    "import matplotlib.pyplot as plt\n",
    "import plotly.graph_objects as go\n",
    "import plotly.express as px"
   ]
  },
  {
   "cell_type": "code",
   "execution_count": 2,
   "id": "saving-blake",
   "metadata": {},
   "outputs": [],
   "source": [
    "from urllib.request import urlopen\n",
    "import json\n",
    "with urlopen('https://raw.githubusercontent.com/plotly/datasets/master/geojson-counties-fips.json') as response:\n",
    "    counties = json.load(response)"
   ]
  },
  {
   "cell_type": "code",
   "execution_count": 3,
   "id": "theoretical-michigan",
   "metadata": {},
   "outputs": [],
   "source": [
    "st = pd.read_csv('weekly_deaths.csv' , sep = ',').fillna(0)"
   ]
  },
  {
   "cell_type": "code",
   "execution_count": 4,
   "id": "oriented-confusion",
   "metadata": {},
   "outputs": [
    {
     "data": {
      "text/plain": [
       "0        2014-04-01\n",
       "1        2014-11-01\n",
       "2        2014-01-18\n",
       "3        2014-01-25\n",
       "4        2014-01-02\n",
       "            ...    \n",
       "18695    2021-01-30\n",
       "18696    2021-02-06\n",
       "18697    2021-02-13\n",
       "18698    2021-02-20\n",
       "18699    2021-02-27\n",
       "Name: Week Ending Date, Length: 18700, dtype: object"
      ]
     },
     "execution_count": 4,
     "metadata": {},
     "output_type": "execute_result"
    }
   ],
   "source": [
    "st['Week Ending Date']"
   ]
  },
  {
   "cell_type": "code",
   "execution_count": 5,
   "id": "latter-privacy",
   "metadata": {},
   "outputs": [],
   "source": [
    "st = st.rename(columns = {'Septicemia (A40-A41)': 'Septicemia',\n",
    "       'Malignant neoplasms (C00-C97)': 'Malignant neoplasms',\n",
    "        'Diabetes mellitus (E10-E14)': 'Diabetes mellitus',\n",
    "       'Alzheimer disease (G30)': 'Alzheimer disease', \n",
    "        'Influenza and pneumonia (J09-J18)': 'Influenza and pneumonia',\n",
    "       'Chronic lower respiratory diseases (J40-J47)': 'Chronic lower respiratory diseases',\n",
    "       'Other diseases of respiratory system (J00-J06,J30-J39,J67,J70-J98)': 'Other diseases of respiratory system',\n",
    "       'Nephritis, nephrotic syndrome and nephrosis (N00-N07,N17-N19,N25-N27)': 'Nephritis, nephrotic syndrome and nephrosis',\n",
    "       'Symptoms, signs and abnormal clinical and laboratory findings, not elsewhere classified (R00-R99)': 'Symptoms, signs and abnormal clinical and laboratory findings',\n",
    "       'Diseases of heart (I00-I09,I11,I13,I20-I51)': 'Diseases of heart',\n",
    "       'Cerebrovascular diseases (I60-I69)': 'Cerebrovascular diseases',\n",
    "       'COVID-19 (U071, Multiple Cause of Death)': 'Multiple Cause of Death + COVID-19',\n",
    "       'COVID-19 (U071, Underlying Cause of Death)': 'COVID-19 as Underlying Cause of Death'\n",
    "    \n",
    "})"
   ]
  },
  {
   "cell_type": "code",
   "execution_count": 6,
   "id": "certified-caution",
   "metadata": {},
   "outputs": [],
   "source": [
    "#st.to_csv('weekly_deaths.csv')"
   ]
  },
  {
   "cell_type": "code",
   "execution_count": null,
   "id": "respective-bathroom",
   "metadata": {},
   "outputs": [],
   "source": []
  }
 ],
 "metadata": {
  "kernelspec": {
   "display_name": "Python 3",
   "language": "python",
   "name": "python3"
  },
  "language_info": {
   "codemirror_mode": {
    "name": "ipython",
    "version": 3
   },
   "file_extension": ".py",
   "mimetype": "text/x-python",
   "name": "python",
   "nbconvert_exporter": "python",
   "pygments_lexer": "ipython3",
   "version": "3.8.2"
  }
 },
 "nbformat": 4,
 "nbformat_minor": 5
}
